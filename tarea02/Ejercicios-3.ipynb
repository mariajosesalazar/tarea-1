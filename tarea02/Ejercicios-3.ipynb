{
  "nbformat": 4,
  "nbformat_minor": 0,
  "metadata": {
    "colab": {
      "provenance": [],
      "toc_visible": true
    },
    "kernelspec": {
      "name": "python3",
      "display_name": "Python 3"
    },
    "language_info": {
      "name": "python"
    }
  },
  "cells": [
    {
      "cell_type": "code",
      "execution_count": 3,
      "metadata": {
        "id": "vasjqKkLrOTS",
        "colab": {
          "base_uri": "https://localhost:8080/"
        },
        "outputId": "ff20b2c6-ad5e-499f-fd99-cbe3b26a57a6"
      },
      "outputs": [
        {
          "output_type": "stream",
          "name": "stdout",
          "text": [
            "soy gato chico\n",
            "soy gato chico\n",
            "soy gato chico\n",
            "soy gato chico\n",
            "soy gato chico\n",
            "soy gato chico\n",
            "soy gato chico\n",
            "soy gato chico\n",
            "soy gato chico\n",
            "soy gato chico\n"
          ]
        }
      ],
      "source": [
        " gato = 0\n",
        "\n",
        "while(gato < 10):\n",
        "  print(\"soy gato chico\")\n",
        "  gato = gato + 1\n",
        "  elif a < b:\n",
        "    print('a es menor')"
      ]
    },
    {
      "cell_type": "code",
      "source": [
        "# Calcular la nota final de un estudiante teniendo en cuenta que:\n",
        "# la primera nota vale 30% de la nota final\n",
        "# la segunda vale 30% de la nota final\n",
        "# y el trabajo final vale 40% de la nota final\n",
        "\n",
        "\n",
        "nota_1 = float(input(\"Ingresa la n1\"))\n",
        "nota_2 = float(input(\"Ingresa la n2\"))\n",
        "nota_3 = float(input(\"Ingresa la n3\"))\n",
        "ponderacion = (nota_1 * 0.3) + nota_2 * 0.3 + nota_3 * 0.4\n",
        "\n",
        "print(ponderacion)\n",
        "\n",
        "if(ponderacion>=4):\n",
        "  print(\"APROBASTE\")\n",
        "  elif(ponderacion<4):\n",
        "    print"
      ],
      "metadata": {
        "colab": {
          "base_uri": "https://localhost:8080/",
          "height": 140
        },
        "id": "AnHOHeFaf7V5",
        "outputId": "598b76d8-a1ad-4792-eeb3-62add9c9d348"
      },
      "execution_count": 4,
      "outputs": [
        {
          "output_type": "error",
          "ename": "SyntaxError",
          "evalue": "ignored",
          "traceback": [
            "\u001b[0;36m  File \u001b[0;32m\"<ipython-input-4-8b583d6a2622>\"\u001b[0;36m, line \u001b[0;32m16\u001b[0m\n\u001b[0;31m    elif(ponderacion<4):\u001b[0m\n\u001b[0m    ^\u001b[0m\n\u001b[0;31mSyntaxError\u001b[0m\u001b[0;31m:\u001b[0m invalid syntax\n"
          ]
        }
      ]
    },
    {
      "cell_type": "markdown",
      "source": [
        "1.Hacer un programa que imprima los números del 1 al 100, en phyton sería:"
      ],
      "metadata": {
        "id": "yArr9_uGkPdH"
      }
    },
    {
      "cell_type": "code",
      "source": [
        "\n",
        "for x in range(100):\n",
        "  print(x+1)"
      ],
      "metadata": {
        "colab": {
          "base_uri": "https://localhost:8080/"
        },
        "id": "0CB8oklRjE4Y",
        "outputId": "03b2a726-2ade-46e9-93b6-4dc2c6ceba26"
      },
      "execution_count": 6,
      "outputs": [
        {
          "output_type": "stream",
          "name": "stdout",
          "text": [
            "1\n",
            "2\n",
            "3\n",
            "4\n",
            "5\n",
            "6\n",
            "7\n",
            "8\n",
            "9\n",
            "10\n",
            "11\n",
            "12\n",
            "13\n",
            "14\n",
            "15\n",
            "16\n",
            "17\n",
            "18\n",
            "19\n",
            "20\n",
            "21\n",
            "22\n",
            "23\n",
            "24\n",
            "25\n",
            "26\n",
            "27\n",
            "28\n",
            "29\n",
            "30\n",
            "31\n",
            "32\n",
            "33\n",
            "34\n",
            "35\n",
            "36\n",
            "37\n",
            "38\n",
            "39\n",
            "40\n",
            "41\n",
            "42\n",
            "43\n",
            "44\n",
            "45\n",
            "46\n",
            "47\n",
            "48\n",
            "49\n",
            "50\n",
            "51\n",
            "52\n",
            "53\n",
            "54\n",
            "55\n",
            "56\n",
            "57\n",
            "58\n",
            "59\n",
            "60\n",
            "61\n",
            "62\n",
            "63\n",
            "64\n",
            "65\n",
            "66\n",
            "67\n",
            "68\n",
            "69\n",
            "70\n",
            "71\n",
            "72\n",
            "73\n",
            "74\n",
            "75\n",
            "76\n",
            "77\n",
            "78\n",
            "79\n",
            "80\n",
            "81\n",
            "82\n",
            "83\n",
            "84\n",
            "85\n",
            "86\n",
            "87\n",
            "88\n",
            "89\n",
            "90\n",
            "91\n",
            "92\n",
            "93\n",
            "94\n",
            "95\n",
            "96\n",
            "97\n",
            "98\n",
            "99\n",
            "100\n"
          ]
        }
      ]
    },
    {
      "cell_type": "markdown",
      "source": [
        "2.Hacer un programa que imprima los números del 1 al 100 que sean divisibles entre 3 (con resto 0)\n",
        "\n",
        "\n"
      ],
      "metadata": {
        "id": "mUOAE4RC4Gcp"
      }
    },
    {
      "cell_type": "code",
      "source": [
        "for x in range(100):\n",
        "\n",
        "\n",
        "  if (x+1) % 3 == 0:\n",
        "    print(x+1)"
      ],
      "metadata": {
        "colab": {
          "base_uri": "https://localhost:8080/"
        },
        "id": "bWAhABCzk1hS",
        "outputId": "9e9bdfb9-18c5-4182-b497-6293ee0157ea"
      },
      "execution_count": 7,
      "outputs": [
        {
          "output_type": "stream",
          "name": "stdout",
          "text": [
            "3\n",
            "6\n",
            "9\n",
            "12\n",
            "15\n",
            "18\n",
            "21\n",
            "24\n",
            "27\n",
            "30\n",
            "33\n",
            "36\n",
            "39\n",
            "42\n",
            "45\n",
            "48\n",
            "51\n",
            "54\n",
            "57\n",
            "60\n",
            "63\n",
            "66\n",
            "69\n",
            "72\n",
            "75\n",
            "78\n",
            "81\n",
            "84\n",
            "87\n",
            "90\n",
            "93\n",
            "96\n",
            "99\n"
          ]
        }
      ]
    },
    {
      "cell_type": "markdown",
      "source": [
        "3.Pseudocódigo, sumador y comparador de dos números"
      ],
      "metadata": {
        "id": "Y71Xro4wrmWC"
      }
    },
    {
      "cell_type": "code",
      "source": [
        "  numero_1 = int(input(\"Ingresa un número\"))\n",
        "  numero_2 = 5\n",
        "  suma = numero_1 + numero_2\n",
        "  resultado = \"\"\n",
        "\n",
        "  if(suma<100):\n",
        "    resultado = \"menor a 100\"\n",
        "  elif(suma>=100 and suma<150):\n",
        "    resultado= \"mayor a 100\"\n",
        "  elif(suma>=150):\n",
        "    resultado = \"mayor a 150\"\n",
        "\n",
        "    print(resultado)"
      ],
      "metadata": {
        "id": "_E8r5XMrlQjf"
      },
      "execution_count": null,
      "outputs": []
    },
    {
      "cell_type": "markdown",
      "source": [
        "**Combinar variables a través de un programa, tipo de datos y una condicional en Python (hace una función que evalúe si el usuario es mayor de edad y si le gusta programar con diferentes textos)\n",
        "## **\n",
        "---\n",
        "\n"
      ],
      "metadata": {
        "id": "myuIdVWj1Z-p"
      }
    },
    {
      "cell_type": "code",
      "source": [
        "edad = int(input(\"Ingresa tu edad\"))\n",
        "gusta_programar = str(input(\"¿Te gusta programar? (Sí/No)\"))\n",
        "resultado = \"\"\n",
        "\n",
        "if(edad<18 and gusta_programar==\"Sí\"):\n",
        "  resultado = \"Eres menor de edad y te gusta programar\"\n",
        "elif(edad<18 and gusta_programar==\"No\"):\n",
        "  resultado = \"Eres menor de edad y no te gusta programar\"\n",
        "elif(edad==18 and gusta_programar==\"Sí\"):\n",
        "  resultado = \"Eres mayor de edad y te gusta programar\"\n",
        "elif(edad==18 and gusta_programar==\"No\"):\n",
        "  resultado = \"Eres mayor de edad y no te gusta programar\"\n",
        "elif(edad>18 and gusta_programar==\"Sí\"):\n",
        "  resultado = \"Eres mayor de edad y te gusta programar\"\n",
        "elif(edad>18 and gusta_programar==\"No\"):\n",
        "  resultado = \"Eres mayor de edad y no te gusta programar\"\n",
        "\n",
        "print(resultado)"
      ],
      "metadata": {
        "colab": {
          "base_uri": "https://localhost:8080/"
        },
        "id": "OuDsywXXqD2X",
        "outputId": "143a82fe-f7db-42b1-f28a-14df87fba582"
      },
      "execution_count": 13,
      "outputs": [
        {
          "output_type": "stream",
          "name": "stdout",
          "text": [
            "Ingresa tu edad10\n",
            "¿Te gusta programar? (Sí/No)Sí\n",
            "Eres menor de edad y te gusta programar\n"
          ]
        }
      ]
    },
    {
      "cell_type": "markdown",
      "source": [
        "Variables:\n",
        "\n",
        "*   La edad es una variable de tipo int. El usuario responde con la edad.\n",
        "*   Variable \"gusta_programar\" es de tipo str. El usuario debe responder si le gusta la programación.\n",
        "*   El \"resultado\" va entre comillas porque es texto.\n",
        "Luego se escriben todas las posibles respuestas ante las preguntas. La primera respuesta va con \"if\" y las siguientes empiezan con \"elif\".\n",
        "Finalmente para que la respuesta aparezca se imprime con (print).\n",
        "\n",
        "\n"
      ],
      "metadata": {
        "id": "ZK1j49zZ2kI0"
      }
    },
    {
      "cell_type": "markdown",
      "source": [
        "# Sección nueva"
      ],
      "metadata": {
        "id": "BaJYj19Hrmah"
      }
    },
    {
      "cell_type": "markdown",
      "source": [
        "Este es un bloque de texto\n",
        "\n",
        "#título"
      ],
      "metadata": {
        "id": "OSYnWH3zs5N_"
      }
    },
    {
      "cell_type": "code",
      "source": [
        "# este es un comentario\n",
        "gato = \"soy un perro\"\n",
        "print(gato)\n",
        "\n",
        "print(\"no soy un gato\")\n",
        "print(10)\n",
        "\n",
        "suma_dos_numeros = 10 + 6\n",
        "print(suma_dos_numeros)\n",
        "\n",
        "print(\"La suma de 10+6 es \"+ str(suma_dos_numeros))"
      ],
      "metadata": {
        "colab": {
          "base_uri": "https://localhost:8080/"
        },
        "id": "AaTRTLyhtPk1",
        "outputId": "640618ca-a0c3-4efc-c9b7-14f9c2612f82"
      },
      "execution_count": null,
      "outputs": [
        {
          "output_type": "stream",
          "name": "stdout",
          "text": [
            "soy un perro\n",
            "no soy un gato\n",
            "10\n",
            "16\n",
            "La suma de 10+6 es 16\n"
          ]
        }
      ]
    }
  ]
}